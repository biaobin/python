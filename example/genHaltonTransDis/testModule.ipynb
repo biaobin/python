{
 "cells": [
  {
   "cell_type": "code",
   "execution_count": 11,
   "metadata": {},
   "outputs": [],
   "source": [
    "import sys\n",
    "sys.path.append(\"/Users/biaobin/scripts/python\")\n",
    "\n",
    "import bblib as bl\n",
    "\n",
    "bl.genHaltonTrans(infile='partcl.data',rb=0.4e-3,flag='quadon')"
   ]
  },
  {
   "cell_type": "code",
   "execution_count": 13,
   "metadata": {},
   "outputs": [
    {
     "name": "stdout",
     "output_type": "stream",
     "text": [
      "6000 0 0\r\n",
      "-6.805956098263660e-05 -2.537296000000000e-03 -3.323859651329126e-04 -1.571022000000000e-04          1.036929000000000e-03 -1.652886000000000e-06 -1.956943000000000e-06 -0.000000000000000e+00 1\r\n",
      " 1.037804169644409e-04 -7.841303000000000e-04 -1.243111814129563e-04 -1.997800000000000e-03          2.458917000000000e-05 -6.402792000000000e-04 -1.956943000000000e-06 -0.000000000000000e+00 2\r\n",
      " 2.788634210013575e-04 -3.594538000000000e-03  4.233403512956356e-05 -1.651677000000000e-03         -1.407598000000000e-03 -2.048950000000000e-03 -1.956943000000000e-06 -0.000000000000000e+00 3\r\n",
      " 1.819361161772585e-04  1.200503000000000e-03  3.158948576134152e-04  2.298319000000000e-03          1.352245000000000e-03  8.426283000000000e-05 -1.956943000000000e-06 -0.000000000000000e+00 4\r\n"
     ]
    }
   ],
   "source": [
    "!head -5 partcl.data.quadON"
   ]
  },
  {
   "cell_type": "code",
   "execution_count": 2,
   "metadata": {},
   "outputs": [
    {
     "name": "stdout",
     "output_type": "stream",
     "text": [
      "genHaltonTransDis.ipynb partcl.data.quadOFF     testModule.ipynb\r\n",
      "partcl.data             partcl.data.quadON\r\n"
     ]
    }
   ],
   "source": [
    "!ls"
   ]
  },
  {
   "cell_type": "code",
   "execution_count": 9,
   "metadata": {},
   "outputs": [],
   "source": [
    "!rm partcl.data.*"
   ]
  },
  {
   "cell_type": "code",
   "execution_count": 10,
   "metadata": {},
   "outputs": [
    {
     "name": "stdout",
     "output_type": "stream",
     "text": [
      "genHaltonTransDis.ipynb partcl.data             testModule.ipynb\r\n"
     ]
    }
   ],
   "source": [
    "!ls\n"
   ]
  },
  {
   "cell_type": "code",
   "execution_count": null,
   "metadata": {},
   "outputs": [],
   "source": []
  }
 ],
 "metadata": {
  "kernelspec": {
   "display_name": "Python 3",
   "language": "python",
   "name": "python3"
  },
  "language_info": {
   "codemirror_mode": {
    "name": "ipython",
    "version": 3
   },
   "file_extension": ".py",
   "mimetype": "text/x-python",
   "name": "python",
   "nbconvert_exporter": "python",
   "pygments_lexer": "ipython3",
   "version": "3.6.8"
  },
  "toc": {
   "base_numbering": 1,
   "nav_menu": {},
   "number_sections": true,
   "sideBar": true,
   "skip_h1_title": false,
   "title_cell": "Table of Contents",
   "title_sidebar": "Contents",
   "toc_cell": false,
   "toc_position": {},
   "toc_section_display": true,
   "toc_window_display": false
  }
 },
 "nbformat": 4,
 "nbformat_minor": 2
}
