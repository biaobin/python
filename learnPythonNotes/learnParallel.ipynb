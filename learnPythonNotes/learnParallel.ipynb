{
 "cells": [
  {
   "cell_type": "markdown",
   "metadata": {},
   "source": [
    "from link:https://www.machinelearningplus.com/python/parallel-processing-python/"
   ]
  },
  {
   "cell_type": "markdown",
   "metadata": {},
   "source": [
    "# 1. Introduction\n",
    "In python, ``multiprocessing`` module is used to run **independent** parallel processes by using subprocesses. The processes can be run in completely separate memory locations."
   ]
  },
  {
   "cell_type": "markdown",
   "metadata": {},
   "source": [
    "# 2. how many processors in you computer"
   ]
  },
  {
   "cell_type": "code",
   "execution_count": 4,
   "metadata": {},
   "outputs": [
    {
     "name": "stdout",
     "output_type": "stream",
     "text": [
      "Number of processors:  4\n"
     ]
    }
   ],
   "source": [
    "import multiprocessing as mp\n",
    "print(\"Number of processors: \", mp.cpu_count())"
   ]
  },
  {
   "cell_type": "markdown",
   "metadata": {},
   "source": [
    "# 3. synchronous and asynchronous execution\n",
    "1. ``Pool`` class\n",
    "    1. synchronous execution\n",
    "        - Pool.map() and Pool.startmap()\n",
    "        - Pool.apply()\n",
    "    1. asynchrous execution\n",
    "        - Pool.map_async() and Pool.starmap_async()\n",
    "        - Pool.apply_async()\n",
    "2. Process class"
   ]
  },
  {
   "cell_type": "markdown",
   "metadata": {},
   "source": [
    "# 4. an example\n",
    "Given a 2D matrix, count how many numbers are present between a given range in each row."
   ]
  },
  {
   "cell_type": "code",
   "execution_count": 5,
   "metadata": {},
   "outputs": [
    {
     "data": {
      "text/plain": [
       "[[5, 5, 4, 4, 2],\n",
       " [2, 9, 8, 4, 2],\n",
       " [2, 3, 4, 1, 9],\n",
       " [3, 1, 9, 1, 0],\n",
       " [9, 9, 5, 7, 0]]"
      ]
     },
     "execution_count": 5,
     "metadata": {},
     "output_type": "execute_result"
    }
   ],
   "source": [
    "import numpy as np\n",
    "import time \n",
    "\n",
    "# prepare data\n",
    "np.random.RandomState(100)\n",
    "# random int between (0,10)\n",
    "arr = np.random.randint(0, 10, size=[int(1e5), 5]) \n",
    "data = arr.tolist()    # different from arr, this is list type, not ndarray\n",
    "data[:5]"
   ]
  },
  {
   "cell_type": "markdown",
   "metadata": {},
   "source": [
    "## 4.1 solution without parallelization\n",
    "def the count function first."
   ]
  },
  {
   "cell_type": "code",
   "execution_count": 6,
   "metadata": {},
   "outputs": [],
   "source": [
    "def howmany_within_range(row, mini, maxi):\n",
    "    \"\"\"return how many numbers lie within minimum and maximum in a given row\"\"\"\n",
    "    count = 0\n",
    "    for n in row:\n",
    "        if mini <= n <= maxi:\n",
    "            count += 1\n",
    "    return count"
   ]
  },
  {
   "cell_type": "code",
   "execution_count": 29,
   "metadata": {},
   "outputs": [
    {
     "name": "stdout",
     "output_type": "stream",
     "text": [
      "79.1 ms ± 1.53 ms per loop (mean ± std. dev. of 7 runs, 10 loops each)\n"
     ]
    }
   ],
   "source": [
    "%%timeit\n",
    "results = []\n",
    "for row in data:\n",
    "    results.append(howmany_within_range(row, mini=4, maxi=8))\n",
    "# print(results[:10])"
   ]
  },
  {
   "cell_type": "code",
   "execution_count": 30,
   "metadata": {},
   "outputs": [
    {
     "data": {
      "text/plain": [
       "'/Users/biaobin/scripts/python/learnPythonNotes'"
      ]
     },
     "execution_count": 30,
     "metadata": {},
     "output_type": "execute_result"
    }
   ],
   "source": [
    "pwd"
   ]
  },
  {
   "cell_type": "code",
   "execution_count": null,
   "metadata": {},
   "outputs": [],
   "source": []
  }
 ],
 "metadata": {
  "kernelspec": {
   "display_name": "Python 3",
   "language": "python",
   "name": "python3"
  },
  "language_info": {
   "codemirror_mode": {
    "name": "ipython",
    "version": 3
   },
   "file_extension": ".py",
   "mimetype": "text/x-python",
   "name": "python",
   "nbconvert_exporter": "python",
   "pygments_lexer": "ipython3",
   "version": "3.6.8"
  }
 },
 "nbformat": 4,
 "nbformat_minor": 2
}
