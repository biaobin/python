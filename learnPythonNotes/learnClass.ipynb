{
 "cells": [
  {
   "cell_type": "markdown",
   "metadata": {},
   "source": [
    "# 类的继承"
   ]
  },
  {
   "cell_type": "code",
   "execution_count": 35,
   "metadata": {
    "scrolled": true
   },
   "outputs": [],
   "source": [
    "class schoolMember:\n",
    "    \n",
    "    def __init__(self, name, age):\n",
    "        self.name = name\n",
    "        self.age  = age\n",
    "\n",
    "class teacher(schoolMember):\n",
    "    def __init__(self, name, age, salary):\n",
    "        schoolMember.__init__(self, name, age)\n",
    "        self.salary = salary\n",
    "\n",
    "class student(schoolMember):\n",
    "    def __init__(self, name, age, marks):\n",
    "        schoolMember.__init__(self, name, age)\n",
    "        self.marks = marks\n",
    "        \n",
    "t = teacher('ChenJin', 40, 5000)   \n",
    "s = student('Biaobin', 20, 80)"
   ]
  }
 ],
 "metadata": {
  "kernelspec": {
   "display_name": "Python 3",
   "language": "python",
   "name": "python3"
  },
  "language_info": {
   "codemirror_mode": {
    "name": "ipython",
    "version": 3
   },
   "file_extension": ".py",
   "mimetype": "text/x-python",
   "name": "python",
   "nbconvert_exporter": "python",
   "pygments_lexer": "ipython3",
   "version": "3.6.8"
  }
 },
 "nbformat": 4,
 "nbformat_minor": 2
}
